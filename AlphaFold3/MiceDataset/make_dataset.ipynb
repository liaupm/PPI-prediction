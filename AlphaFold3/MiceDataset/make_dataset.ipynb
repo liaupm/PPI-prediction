{
 "cells": [
  {
   "cell_type": "markdown",
   "id": "2150b56a-1cd1-40a9-997b-b4de7b3d3870",
   "metadata": {},
   "source": [
    "# Load positive and negative interactions\n",
    "\n",
    "We will compute additional embeddings for another 200 mice interactions. New complete data provided by Lucía.\n",
    "\n",
    "Excluding previously computed ones in experiment4."
   ]
  },
  {
   "cell_type": "code",
   "execution_count": 1,
   "id": "6deb2956-e3e3-4168-8bd2-5b7b86ea0979",
   "metadata": {},
   "outputs": [
    {
     "name": "stdout",
     "output_type": "stream",
     "text": [
      "\u001b[33mWARNING: The directory '/home/jovyan/.cache/pip' or its parent directory is not owned or is not writable by the current user. The cache has been disabled. Check the permissions and owner of that directory. If executing pip with sudo, you should use sudo's -H flag.\u001b[0m\u001b[33m\n",
      "\u001b[0mCollecting biopython\n",
      "  Downloading biopython-1.85-cp311-cp311-manylinux_2_17_x86_64.manylinux2014_x86_64.whl (3.3 MB)\n",
      "\u001b[2K     \u001b[90m━━━━━━━━━━━━━━━━━━━━━━━━━━━━━━━━━━━━━━━━\u001b[0m \u001b[32m3.3/3.3 MB\u001b[0m \u001b[31m58.1 MB/s\u001b[0m eta \u001b[36m0:00:00\u001b[0ma \u001b[36m0:00:01\u001b[0m\n",
      "\u001b[?25hRequirement already satisfied: numpy in /opt/conda/lib/python3.11/site-packages (from biopython) (1.24.4)\n",
      "Installing collected packages: biopython\n",
      "Successfully installed biopython-1.85\n",
      "\u001b[33mWARNING: Running pip as the 'root' user can result in broken permissions and conflicting behaviour with the system package manager. It is recommended to use a virtual environment instead: https://pip.pypa.io/warnings/venv\u001b[0m\u001b[33m\n",
      "\u001b[0m"
     ]
    }
   ],
   "source": [
    "!pip install biopython"
   ]
  },
  {
   "cell_type": "code",
   "execution_count": 2,
   "id": "3ee6ff67-87bc-479a-aece-bc5f29c1c7de",
   "metadata": {},
   "outputs": [],
   "source": [
    "import numpy as np\n",
    "from Bio import SeqIO\n",
    "from pathlib import Path"
   ]
  },
  {
   "cell_type": "code",
   "execution_count": 3,
   "id": "c3d1e37b-bfa4-4c8c-b3f6-d8b6cb0b9d8a",
   "metadata": {},
   "outputs": [
    {
     "data": {
      "text/plain": [
       "((369683, 6), (1048575, 6))"
      ]
     },
     "execution_count": 3,
     "metadata": {},
     "output_type": "execute_result"
    }
   ],
   "source": [
    "import pandas as pd\n",
    "\n",
    "positive_df = pd.read_csv(\"Interacciones_Positivas_Raton_Completo 1(in).csv\")\n",
    "negative_df = pd.read_csv(\"Interacciones_Negativas_Raton_Completo 1(in).csv\")\n",
    "positive_df.shape, negative_df.shape"
   ]
  },
  {
   "cell_type": "markdown",
   "id": "d2a3be5b-8bd0-497d-b86c-2eab10520ba1",
   "metadata": {},
   "source": [
    "Check that there are no duplicate interactions:"
   ]
  },
  {
   "cell_type": "code",
   "execution_count": 4,
   "id": "cf2324f0-948e-4f72-a64d-58bf0cf88211",
   "metadata": {},
   "outputs": [
    {
     "data": {
      "text/plain": [
       "(369683, 6)"
      ]
     },
     "execution_count": 4,
     "metadata": {},
     "output_type": "execute_result"
    }
   ],
   "source": [
    "positive_df.drop_duplicates(subset=[\"Head\", \"Tail\"], keep=False).shape"
   ]
  },
  {
   "cell_type": "code",
   "execution_count": 5,
   "id": "8725758a-a395-4b9a-9d9e-8a158c426e52",
   "metadata": {},
   "outputs": [
    {
     "data": {
      "text/plain": [
       "(1045945, 6)"
      ]
     },
     "execution_count": 5,
     "metadata": {},
     "output_type": "execute_result"
    }
   ],
   "source": [
    "negative_df.drop_duplicates(subset=[\"Head\", \"Tail\"], keep=\"first\").shape"
   ]
  },
  {
   "cell_type": "markdown",
   "id": "ef571191-d03b-402e-a8f8-2040a082a494",
   "metadata": {},
   "source": [
    "There are duplicates in the negative set. We will leave the negative interaction with less evidence."
   ]
  },
  {
   "cell_type": "code",
   "execution_count": 6,
   "id": "aa47f0d6-0366-4c0c-a0ab-a62769456061",
   "metadata": {},
   "outputs": [],
   "source": [
    "negative_df = negative_df.drop_duplicates(subset=[\"Head\", \"Tail\"], keep=\"last\")"
   ]
  },
  {
   "cell_type": "code",
   "execution_count": 7,
   "id": "ad7855c5-d1f4-47c6-a4ce-797dacef66fa",
   "metadata": {},
   "outputs": [
    {
     "data": {
      "text/html": [
       "<div>\n",
       "<style scoped>\n",
       "    .dataframe tbody tr th:only-of-type {\n",
       "        vertical-align: middle;\n",
       "    }\n",
       "\n",
       "    .dataframe tbody tr th {\n",
       "        vertical-align: top;\n",
       "    }\n",
       "\n",
       "    .dataframe thead th {\n",
       "        text-align: right;\n",
       "    }\n",
       "</style>\n",
       "<table border=\"1\" class=\"dataframe\">\n",
       "  <thead>\n",
       "    <tr style=\"text-align: right;\">\n",
       "      <th></th>\n",
       "      <th>Head</th>\n",
       "      <th>HeadGeneName</th>\n",
       "      <th>TailGeneName</th>\n",
       "      <th>Tail</th>\n",
       "      <th>Score</th>\n",
       "      <th>Relationship</th>\n",
       "    </tr>\n",
       "  </thead>\n",
       "  <tbody>\n",
       "    <tr>\n",
       "      <th>0</th>\n",
       "      <td>O09061</td>\n",
       "      <td>Psmb1</td>\n",
       "      <td>Psma1</td>\n",
       "      <td>Q9R1P4</td>\n",
       "      <td>1.0</td>\n",
       "      <td>PHYSICAL_INTERACTION</td>\n",
       "    </tr>\n",
       "    <tr>\n",
       "      <th>1</th>\n",
       "      <td>O35683</td>\n",
       "      <td>Ndufa1</td>\n",
       "      <td>Ndufab1</td>\n",
       "      <td>Q9CR21</td>\n",
       "      <td>1.0</td>\n",
       "      <td>PHYSICAL_INTERACTION</td>\n",
       "    </tr>\n",
       "    <tr>\n",
       "      <th>2</th>\n",
       "      <td>Q9DCT2</td>\n",
       "      <td>Ndufs3</td>\n",
       "      <td>Ndufab1</td>\n",
       "      <td>Q9CR21</td>\n",
       "      <td>1.0</td>\n",
       "      <td>PHYSICAL_INTERACTION</td>\n",
       "    </tr>\n",
       "    <tr>\n",
       "      <th>3</th>\n",
       "      <td>P99026</td>\n",
       "      <td>Psmb4</td>\n",
       "      <td>Psma1</td>\n",
       "      <td>Q9R1P4</td>\n",
       "      <td>1.0</td>\n",
       "      <td>PHYSICAL_INTERACTION</td>\n",
       "    </tr>\n",
       "    <tr>\n",
       "      <th>4</th>\n",
       "      <td>Q91WD5</td>\n",
       "      <td>Ndufs2</td>\n",
       "      <td>Ndufab1</td>\n",
       "      <td>Q9CR21</td>\n",
       "      <td>1.0</td>\n",
       "      <td>PHYSICAL_INTERACTION</td>\n",
       "    </tr>\n",
       "  </tbody>\n",
       "</table>\n",
       "</div>"
      ],
      "text/plain": [
       "     Head HeadGeneName TailGeneName    Tail  Score          Relationship\n",
       "0  O09061        Psmb1        Psma1  Q9R1P4    1.0  PHYSICAL_INTERACTION\n",
       "1  O35683       Ndufa1      Ndufab1  Q9CR21    1.0  PHYSICAL_INTERACTION\n",
       "2  Q9DCT2       Ndufs3      Ndufab1  Q9CR21    1.0  PHYSICAL_INTERACTION\n",
       "3  P99026        Psmb4        Psma1  Q9R1P4    1.0  PHYSICAL_INTERACTION\n",
       "4  Q91WD5       Ndufs2      Ndufab1  Q9CR21    1.0  PHYSICAL_INTERACTION"
      ]
     },
     "execution_count": 7,
     "metadata": {},
     "output_type": "execute_result"
    }
   ],
   "source": [
    "positive_df.head()"
   ]
  },
  {
   "cell_type": "code",
   "execution_count": 8,
   "id": "f10d3eb7-aac7-4563-b45d-64ac4274fea5",
   "metadata": {},
   "outputs": [
    {
     "data": {
      "text/html": [
       "<div>\n",
       "<style scoped>\n",
       "    .dataframe tbody tr th:only-of-type {\n",
       "        vertical-align: middle;\n",
       "    }\n",
       "\n",
       "    .dataframe tbody tr th {\n",
       "        vertical-align: top;\n",
       "    }\n",
       "\n",
       "    .dataframe thead th {\n",
       "        text-align: right;\n",
       "    }\n",
       "</style>\n",
       "<table border=\"1\" class=\"dataframe\">\n",
       "  <thead>\n",
       "    <tr style=\"text-align: right;\">\n",
       "      <th></th>\n",
       "      <th>Head</th>\n",
       "      <th>HeadGeneName</th>\n",
       "      <th>Tail</th>\n",
       "      <th>TailGeneName</th>\n",
       "      <th>Shared_Connections</th>\n",
       "      <th>Shortest_Path</th>\n",
       "    </tr>\n",
       "  </thead>\n",
       "  <tbody>\n",
       "    <tr>\n",
       "      <th>0</th>\n",
       "      <td>Q9JIB3</td>\n",
       "      <td>Naip7</td>\n",
       "      <td>Q9JLJ5</td>\n",
       "      <td>Elovl1</td>\n",
       "      <td>0</td>\n",
       "      <td>7</td>\n",
       "    </tr>\n",
       "    <tr>\n",
       "      <th>1</th>\n",
       "      <td>P51150</td>\n",
       "      <td>Rab7a</td>\n",
       "      <td>Q9CQ71</td>\n",
       "      <td>Rpa3</td>\n",
       "      <td>0</td>\n",
       "      <td>7</td>\n",
       "    </tr>\n",
       "    <tr>\n",
       "      <th>2</th>\n",
       "      <td>Q8VCY6</td>\n",
       "      <td>Utp6</td>\n",
       "      <td>Q9CQ71</td>\n",
       "      <td>Rpa3</td>\n",
       "      <td>0</td>\n",
       "      <td>7</td>\n",
       "    </tr>\n",
       "    <tr>\n",
       "      <th>3</th>\n",
       "      <td>Q8BWR8</td>\n",
       "      <td>Rhpn2</td>\n",
       "      <td>Q9CQ71</td>\n",
       "      <td>Rpa3</td>\n",
       "      <td>0</td>\n",
       "      <td>7</td>\n",
       "    </tr>\n",
       "    <tr>\n",
       "      <th>4</th>\n",
       "      <td>P51150</td>\n",
       "      <td>Rab7a</td>\n",
       "      <td>Q9JIB3</td>\n",
       "      <td>Naip7</td>\n",
       "      <td>0</td>\n",
       "      <td>7</td>\n",
       "    </tr>\n",
       "  </tbody>\n",
       "</table>\n",
       "</div>"
      ],
      "text/plain": [
       "     Head HeadGeneName    Tail TailGeneName  Shared_Connections  Shortest_Path\n",
       "0  Q9JIB3        Naip7  Q9JLJ5       Elovl1                   0              7\n",
       "1  P51150        Rab7a  Q9CQ71         Rpa3                   0              7\n",
       "2  Q8VCY6         Utp6  Q9CQ71         Rpa3                   0              7\n",
       "3  Q8BWR8        Rhpn2  Q9CQ71         Rpa3                   0              7\n",
       "4  P51150        Rab7a  Q9JIB3        Naip7                   0              7"
      ]
     },
     "execution_count": 8,
     "metadata": {},
     "output_type": "execute_result"
    }
   ],
   "source": [
    "negative_df.head()"
   ]
  },
  {
   "cell_type": "markdown",
   "id": "f1322309-7444-42f3-a512-2c2d87fc8761",
   "metadata": {},
   "source": [
    "# Check node degree"
   ]
  },
  {
   "cell_type": "code",
   "execution_count": 9,
   "id": "59159a09-a538-488f-b72b-c042fc8b1cd8",
   "metadata": {},
   "outputs": [],
   "source": [
    "def get_node_degrees(pos_sel, neg_sel):\n",
    "    prots_pos, degree_pos = np.unique(np.concatenate([pos_sel[\"Head\"].values, pos_sel[\"Tail\"].values]), return_counts=True)\n",
    "    prots_neg, degree_neg = np.unique(np.concatenate([neg_sel[\"Head\"].values, neg_sel[\"Tail\"].values]), return_counts=True)\n",
    "    \n",
    "    node_degrees = pd.DataFrame({\n",
    "        \"protein\": np.union1d(prots_pos, prots_neg)\n",
    "    })\n",
    "    \n",
    "    node_degrees[\"pos_degree\"] = node_degrees[\"protein\"].map(dict(zip(prots_pos, degree_pos))).fillna(0).astype(int)\n",
    "    node_degrees[\"neg_degree\"] = node_degrees[\"protein\"].map(dict(zip(prots_neg, degree_neg))).fillna(0).astype(int)\n",
    "    node_degrees[\"abs_degree_dif\"] = (node_degrees[\"pos_degree\"] - node_degrees[\"neg_degree\"]).abs()\n",
    "    return node_degrees"
   ]
  },
  {
   "cell_type": "markdown",
   "id": "536b8ce0-c9a5-4eae-abf4-a11aa54c2b63",
   "metadata": {},
   "source": [
    "## Disjoint train/validation/test sets"
   ]
  },
  {
   "cell_type": "markdown",
   "id": "7b47c635-bf68-40a1-af0b-5c7a6171ecf1",
   "metadata": {},
   "source": [
    "Since any overlap in the unique proteins that compose the training, validation and test sets, could mean learning by node degree alone, we will make perfectly disjoint groups. Sequence similarity will not be taken into account since access to readily available similarity matrices was not possible and calculating all pairwise similarities is unfeasable."
   ]
  },
  {
   "cell_type": "markdown",
   "id": "180251ce-09ee-43e1-bc48-bc83ec8d5466",
   "metadata": {},
   "source": [
    "Calculate all unique proteins:"
   ]
  },
  {
   "cell_type": "code",
   "execution_count": 10,
   "id": "c114f4f3-2e9e-4b8f-bbd8-f9da0e1a4b21",
   "metadata": {},
   "outputs": [
    {
     "data": {
      "text/plain": [
       "(14611,)"
      ]
     },
     "execution_count": 10,
     "metadata": {},
     "output_type": "execute_result"
    }
   ],
   "source": [
    "uniq_prots = np.unique(np.concatenate((positive_df[[\"Head\", \"Tail\"]].values.flatten(), negative_df[[\"Head\", \"Tail\"]].values.flatten())))\n",
    "uniq_prots.shape"
   ]
  },
  {
   "cell_type": "code",
   "execution_count": 11,
   "id": "f41f93af-6d51-4a7e-80a5-1a524eb1a5db",
   "metadata": {},
   "outputs": [],
   "source": [
    "seq_dict = {}\n",
    "\n",
    "for protein in uniq_prots:\n",
    "    try:\n",
    "        records = list(SeqIO.parse(f\"Secuencias/{protein}.fasta\", format=\"fasta\"))\n",
    "        if len(records) > 1:\n",
    "            print(f\"{protein} has more than one sequence!\")\n",
    "        seq_dict[protein] = str(records[0].seq)\n",
    "    \n",
    "    except Exception as e:\n",
    "        print(f\"Fail at {protein}\")\n",
    "        print(records)\n",
    "        raise e"
   ]
  },
  {
   "cell_type": "code",
   "execution_count": 12,
   "id": "84088f5c-b0ab-4f3d-946c-6743f2dbf1b5",
   "metadata": {},
   "outputs": [],
   "source": [
    "len_dict = {k: len(v) for k, v in seq_dict.items()}\n",
    "positive_df.loc[:, \"Head_len\"] = positive_df.loc[:, \"Head\"].map(len_dict)\n",
    "positive_df.loc[:, \"Tail_len\"] = positive_df.loc[:, \"Tail\"].map(len_dict)\n",
    "negative_df.loc[:, \"Head_len\"] = negative_df.loc[:, \"Head\"].map(len_dict)\n",
    "negative_df.loc[:, \"Tail_len\"] = negative_df.loc[:, \"Tail\"].map(len_dict)"
   ]
  },
  {
   "cell_type": "code",
   "execution_count": 13,
   "id": "57045a68-25e6-4e7d-82fe-cee97ae298d2",
   "metadata": {},
   "outputs": [
    {
     "name": "stdout",
     "output_type": "stream",
     "text": [
      "278300 803603\n",
      "0.7528071347614037 remaining of positives\n",
      "0.7683033046670714 remaining of positives\n"
     ]
    }
   ],
   "source": [
    "THRESHOLD = 1536 # We use a very small bucket to make AlphaFold3 predictions faster\n",
    "mask_short_positive = positive_df.apply(lambda x: x[\"Head_len\"] + x[\"Tail_len\"], axis=1) < THRESHOLD\n",
    "mask_short_negative = negative_df.apply(lambda x: x[\"Head_len\"] + x[\"Tail_len\"], axis=1) < THRESHOLD\n",
    "positive_short = positive_df[mask_short_positive]\n",
    "negative_short = negative_df[mask_short_negative]\n",
    "print(len(positive_short), len(negative_short))\n",
    "print(len(positive_short)/len(positive_df), \"remaining of positives\")\n",
    "print(len(negative_short)/len(negative_df), \"remaining of positives\")"
   ]
  },
  {
   "cell_type": "markdown",
   "id": "0e88c9f9-d9e9-4df8-86c1-057484232a48",
   "metadata": {},
   "source": [
    "Partition randomly in three blocks:"
   ]
  },
  {
   "cell_type": "code",
   "execution_count": 14,
   "id": "9d65ce75-9be6-4700-9eaf-5dbbc68a3ddc",
   "metadata": {},
   "outputs": [
    {
     "data": {
      "text/plain": [
       "(13532,)"
      ]
     },
     "execution_count": 14,
     "metadata": {},
     "output_type": "execute_result"
    }
   ],
   "source": [
    "uniq_prots = np.unique(np.concatenate((positive_short[[\"Head\", \"Tail\"]].values.flatten(), negative_short[[\"Head\", \"Tail\"]].values.flatten())))\n",
    "uniq_prots.shape"
   ]
  },
  {
   "cell_type": "code",
   "execution_count": 15,
   "id": "d46dcea4-d856-495b-9b80-537e2b00fb4f",
   "metadata": {},
   "outputs": [],
   "source": [
    "np.random.seed(0)\n",
    "np.random.shuffle(uniq_prots)\n",
    "n = uniq_prots.shape[0]\n",
    "P0 = uniq_prots[:int(0.6*n)]\n",
    "P1 = uniq_prots[int(0.6*n):int(0.8*n)]\n",
    "P2 = uniq_prots[int(0.8*n):]"
   ]
  },
  {
   "cell_type": "code",
   "execution_count": 16,
   "id": "fe8b2a96-4ad2-4f78-94b1-5e4a8c5bdc8f",
   "metadata": {},
   "outputs": [],
   "source": [
    "filter_byblock = lambda df, block: df[df[\"Head\"].isin(block) & df[\"Tail\"].isin(block)]"
   ]
  },
  {
   "cell_type": "code",
   "execution_count": 17,
   "id": "7123986d-4e32-478f-abf2-7bad2b420940",
   "metadata": {},
   "outputs": [
    {
     "data": {
      "text/plain": [
       "(92709, 288809)"
      ]
     },
     "execution_count": 17,
     "metadata": {},
     "output_type": "execute_result"
    }
   ],
   "source": [
    "pos_P0 = filter_byblock(positive_short, P0)\n",
    "neg_P0 = filter_byblock(negative_short, P0)\n",
    "pos_P0.shape[0], neg_P0.shape[0]"
   ]
  },
  {
   "cell_type": "code",
   "execution_count": 18,
   "id": "7be371f6-3c84-42b0-8f6d-b44d082b8781",
   "metadata": {},
   "outputs": [
    {
     "data": {
      "text/plain": [
       "(12153, 34138)"
      ]
     },
     "execution_count": 18,
     "metadata": {},
     "output_type": "execute_result"
    }
   ],
   "source": [
    "pos_P1 = filter_byblock(positive_short, P1)\n",
    "neg_P1 = filter_byblock(negative_short, P1)\n",
    "pos_P1.shape[0], neg_P1.shape[0]"
   ]
  },
  {
   "cell_type": "code",
   "execution_count": 19,
   "id": "ba90d7e8-05c6-48d6-b5bb-ccf792873429",
   "metadata": {},
   "outputs": [
    {
     "data": {
      "text/plain": [
       "(12525, 30109)"
      ]
     },
     "execution_count": 19,
     "metadata": {},
     "output_type": "execute_result"
    }
   ],
   "source": [
    "pos_P2 = filter_byblock(positive_short, P2)\n",
    "neg_P2 = filter_byblock(negative_short, P2)\n",
    "pos_P2.shape[0], neg_P2.shape[0]"
   ]
  },
  {
   "cell_type": "markdown",
   "id": "47aab335-7b16-45d6-81d9-3245b95264b0",
   "metadata": {},
   "source": [
    "Show distribution of positive and negative degrees:"
   ]
  },
  {
   "cell_type": "code",
   "execution_count": 20,
   "id": "14f7b969-28a6-4052-8b2b-b41b04ceb628",
   "metadata": {},
   "outputs": [],
   "source": [
    "get_protein_counts = lambda df: np.unique(df[[\"Head\", \"Tail\"]], return_counts=True)[1]"
   ]
  },
  {
   "cell_type": "code",
   "execution_count": 21,
   "id": "62f84e30-c517-4b69-bd17-f31e765bf76e",
   "metadata": {},
   "outputs": [],
   "source": [
    "import seaborn as sns\n",
    "import matplotlib.pyplot as plt\n",
    "\n",
    "def plot_degrees(posdf, negdf, xlim=None):\n",
    "    pos_degree, neg_degree = (get_protein_counts(df) for df in (posdf, negdf))\n",
    "    fig, ax = plt.subplots(figsize=(5,4))\n",
    "    sns.histplot(data=pos_degree, discrete=True, stat=\"density\", alpha=0.5, color=\"blue\", label=\"Positive degree\", ax=ax)\n",
    "    sns.histplot(data=neg_degree, discrete=True, stat=\"density\", alpha=0.5, color=\"orange\", label=\"Negative degree\", ax=ax)\n",
    "    plt.xlim(xlim)\n",
    "    plt.legend()\n",
    "    plt.show()"
   ]
  },
  {
   "cell_type": "code",
   "execution_count": 22,
   "id": "8622ebe7-72a3-446f-a0b1-ec7c99c9f6c2",
   "metadata": {},
   "outputs": [
    {
     "data": {
      "image/png": "[encoded data removed]",
      "text/plain": [
       "<Figure size 500x400 with 1 Axes>"
      ]
     },
     "metadata": {},
     "output_type": "display_data"
    }
   ],
   "source": [
    "plot_degrees(pos_P0, neg_P0)"
   ]
  },
  {
   "cell_type": "code",
   "execution_count": 23,
   "id": "d527de21-4aa5-4908-a3a6-f730b66a1cf1",
   "metadata": {},
   "outputs": [
    {
     "data": {
      "image/png": "[encoded data removed]",
      "text/plain": [
       "<Figure size 500x400 with 1 Axes>"
      ]
     },
     "metadata": {},
     "output_type": "display_data"
    }
   ],
   "source": [
    "plot_degrees(pos_P1, neg_P1)"
   ]
  },
  {
   "cell_type": "code",
   "execution_count": 24,
   "id": "0c55be39-38f4-4ad3-b453-3b1c0559d28d",
   "metadata": {},
   "outputs": [
    {
     "data": {
      "image/png": "[encoded data removed]",
      "text/plain": [
       "<Figure size 500x400 with 1 Axes>"
      ]
     },
     "metadata": {},
     "output_type": "display_data"
    }
   ],
   "source": [
    "plot_degrees(pos_P2, neg_P2)"
   ]
  },
  {
   "cell_type": "markdown",
   "id": "4d2fe987-823f-4c14-be5f-ebdb45e019e5",
   "metadata": {},
   "source": [
    "Negative degrees follow a very different distribution than positive degrees. In principle, that is bad, but I'm not sure the model could use it in any way to perform better in validation, since proteins are not shared."
   ]
  },
  {
   "cell_type": "markdown",
   "id": "1967579e-3ca0-4926-8e7b-e067f101335d",
   "metadata": {},
   "source": [
    "Balance the dataset by taking the most credible N positive/negative interactions"
   ]
  },
  {
   "cell_type": "code",
   "execution_count": 25,
   "id": "c46a3cba-99af-4dc9-ae92-8c88dcde04cb",
   "metadata": {},
   "outputs": [],
   "source": [
    "N_train = 1500\n",
    "N_val = 500\n",
    "N_test = 500"
   ]
  },
  {
   "cell_type": "code",
   "execution_count": 26,
   "id": "c1aa547c-3608-4307-84f5-00751dda4060",
   "metadata": {},
   "outputs": [],
   "source": [
    "pos_train, neg_train = pos_P0[:N_train//2], neg_P0[:N_train//2]\n",
    "pos_val, neg_val = pos_P1[:N_val//2], neg_P1[:N_val//2]\n",
    "pos_test, neg_test = pos_P2[:N_test//2], neg_P2[:N_test//2]"
   ]
  },
  {
   "cell_type": "code",
   "execution_count": 27,
   "id": "8a2eca71-056c-4a4e-b5e3-32a430ecfdc1",
   "metadata": {},
   "outputs": [
    {
     "data": {
      "image/png": "[encoded data removed]",
      "text/plain": [
       "<Figure size 500x400 with 1 Axes>"
      ]
     },
     "metadata": {},
     "output_type": "display_data"
    }
   ],
   "source": [
    "plot_degrees(pos_train, neg_train, xlim=(0,30))"
   ]
  },
  {
   "cell_type": "code",
   "execution_count": 28,
   "id": "d8a2fe0d-5e58-4a9c-a125-a7a2d704276c",
   "metadata": {},
   "outputs": [
    {
     "data": {
      "image/png": "[encoded data removed]",
      "text/plain": [
       "<Figure size 500x400 with 1 Axes>"
      ]
     },
     "metadata": {},
     "output_type": "display_data"
    }
   ],
   "source": [
    "plot_degrees(pos_val, neg_val, xlim=(0,30))"
   ]
  },
  {
   "cell_type": "code",
   "execution_count": 29,
   "id": "b120e518-d4fc-4f5d-8de7-ebb6732ee05c",
   "metadata": {},
   "outputs": [
    {
     "data": {
      "image/png": "[encoded data removed]",
      "text/plain": [
       "<Figure size 500x400 with 1 Axes>"
      ]
     },
     "metadata": {},
     "output_type": "display_data"
    }
   ],
   "source": [
    "plot_degrees(pos_test, neg_test, xlim=(0,30))"
   ]
  },
  {
   "cell_type": "markdown",
   "id": "572b107d-348c-417a-8399-35837cd4bac1",
   "metadata": {},
   "source": [
    "When sampling the most confident negative samples, they follow a something similar to a power law distribution, similar to that of the positives. Thus learning by node degree should be impossible."
   ]
  },
  {
   "cell_type": "markdown",
   "id": "7c56447a-a3e0-4bdb-a2dc-f241aa77be25",
   "metadata": {},
   "source": [
    "Save the interactions we are doing in case we want to augment the dataset in the future:"
   ]
  },
  {
   "cell_type": "code",
   "execution_count": 30,
   "id": "4e80e5a5-a4bc-44d7-a612-e602cb23a211",
   "metadata": {},
   "outputs": [],
   "source": [
    "pos_train.to_csv(\"dataset/pos_train.csv\")\n",
    "neg_train.to_csv(\"dataset/neg_train.csv\")\n",
    "pos_val.to_csv(\"dataset/pos_val.csv\")\n",
    "neg_val.to_csv(\"dataset/neg_val.csv\")\n",
    "pos_test.to_csv(\"dataset/pos_test.csv\")\n",
    "neg_test.to_csv(\"dataset/neg_test.csv\")"
   ]
  },
  {
   "cell_type": "code",
   "execution_count": 41,
   "id": "6ff02519-ceb1-494d-b6a5-a793b4f16ce2",
   "metadata": {},
   "outputs": [],
   "source": [
    "pos_train = pd.read_csv(\"dataset/pos_train.csv\")\n",
    "neg_train = pd.read_csv(\"dataset/neg_train.csv\")\n",
    "pos_val = pd.read_csv(\"dataset/pos_val.csv\")\n",
    "neg_val = pd.read_csv(\"dataset/neg_val.csv\")\n",
    "pos_test = pd.read_csv(\"dataset/pos_test.csv\")\n",
    "neg_test = pd.read_csv(\"dataset/neg_test.csv\")"
   ]
  },
  {
   "cell_type": "code",
   "execution_count": 42,
   "id": "fd92dd94-8166-4ee2-8f74-45df72d4d618",
   "metadata": {},
   "outputs": [],
   "source": [
    "train_prots = np.unique(np.concatenate([df[[\"Head\", \"Tail\"]].values.flatten() for df in (pos_train, neg_train)]))\n",
    "val_prots = np.unique(np.concatenate([df[[\"Head\", \"Tail\"]].values.flatten() for df in (pos_val, neg_val)]))\n",
    "test_prots = np.unique(np.concatenate([df[[\"Head\", \"Tail\"]].values.flatten() for df in (pos_test, neg_test)]))"
   ]
  },
  {
   "cell_type": "code",
   "execution_count": 43,
   "id": "21fe589b-9cb4-4885-ab6a-ef153fff651b",
   "metadata": {},
   "outputs": [
    {
     "data": {
      "text/plain": [
       "0"
      ]
     },
     "execution_count": 43,
     "metadata": {},
     "output_type": "execute_result"
    }
   ],
   "source": [
    "(np.intersect1d(train_prots, val_prots).size or\n",
    "np.intersect1d(train_prots, test_prots).size or\n",
    "np.intersect1d(val_prots, test_prots).size)"
   ]
  },
  {
   "cell_type": "markdown",
   "id": "dd436df1-aceb-460d-8d9a-53be5153350a",
   "metadata": {},
   "source": [
    "## Write json input files for AlphaFold3"
   ]
  },
  {
   "cell_type": "code",
   "execution_count": 44,
   "id": "ccbb5d8a-ad42-485d-b6ee-71b2784474b2",
   "metadata": {},
   "outputs": [],
   "source": [
    "# Reload sequences\n",
    "uniq_prots = np.unique(np.concatenate([df[[\"Head\", \"Tail\"]].values.flatten() for df in (pos_train, neg_train, pos_val, neg_val, pos_test, neg_test)]))\n",
    "\n",
    "seq_dict = {}\n",
    "\n",
    "for protein in uniq_prots:\n",
    "    try:\n",
    "        records = list(SeqIO.parse(f\"Secuencias/{protein}.fasta\", format=\"fasta\"))\n",
    "        if len(records) > 1:\n",
    "            print(f\"{protein} has more than one sequence!\")\n",
    "        seq_dict[protein] = str(records[0].seq)\n",
    "    \n",
    "    except Exception as e:\n",
    "        print(f\"Fail at {protein}\")\n",
    "        print(records)\n",
    "        raise e"
   ]
  },
  {
   "cell_type": "code",
   "execution_count": 53,
   "id": "34d39b34-23ab-4cc8-a3ef-ad3e83269a44",
   "metadata": {},
   "outputs": [],
   "source": [
    "import json\n",
    "def to_input(name, seq1, seq2):\n",
    "    sequences = [\n",
    "        {\"protein\": {\n",
    "            \"id\": \"A\",\n",
    "            \"sequence\": seq1\n",
    "            }\n",
    "        },\n",
    "        {\"protein\": {\n",
    "            \"id\": \"B\",\n",
    "            \"sequence\": seq2\n",
    "            }\n",
    "        },\n",
    "    ]\n",
    "    \n",
    "    alphafold_json = json.dumps(\n",
    "        {\n",
    "            'dialect': \"alphafold3\",\n",
    "            'version': 1,\n",
    "            'name': name,\n",
    "            'sequences': sequences,\n",
    "            'modelSeeds': [0],\n",
    "        },\n",
    "        indent=2,\n",
    "    )\n",
    "    return alphafold_json\n",
    "\n",
    "def write_block_inputs(pos_df, neg_df, block, folder, seq_dict):\n",
    "    for idx, row in pos_df.iterrows():\n",
    "        id1 = row[\"Head\"]\n",
    "        id2 = row[\"Tail\"]\n",
    "        seq1 = seq_dict[id1]\n",
    "        seq2 = seq_dict[id2]\n",
    "        \n",
    "        name = f\"{block}_{id1}_{id2}_1\"\n",
    "    \n",
    "        jsoncontent = to_input(name, seq1, seq2)\n",
    "        with open(INPUTS_FOLDER / (name + \".json\"), \"w\") as file:\n",
    "            file.write(jsoncontent)\n",
    "\n",
    "    for idx, row in neg_df.iterrows():\n",
    "        id1 = row[\"Head\"]\n",
    "        id2 = row[\"Tail\"]\n",
    "        seq1 = seq_dict[id1]\n",
    "        seq2 = seq_dict[id2]\n",
    "        \n",
    "        name = f\"{block}_{id1}_{id2}_0\"\n",
    "    \n",
    "        jsoncontent = to_input(name, seq1, seq2)\n",
    "        with open(INPUTS_FOLDER / (name + \".json\"), \"w\") as file:\n",
    "            file.write(jsoncontent)"
   ]
  },
  {
   "cell_type": "code",
   "execution_count": 54,
   "id": "9c6537f3-7585-455e-a012-d148f5660fb6",
   "metadata": {},
   "outputs": [],
   "source": [
    "INPUTS_FOLDER = Path(\"./inputs\")\n",
    "write_block_inputs(pos_train, neg_train, \"P0\", INPUTS_FOLDER, seq_dict)\n",
    "write_block_inputs(pos_val, neg_val, \"P1\", INPUTS_FOLDER, seq_dict)\n",
    "write_block_inputs(pos_test, neg_test, \"P2\", INPUTS_FOLDER, seq_dict)"
   ]
  },
  {
   "cell_type": "code",
   "execution_count": 48,
   "id": "c6c66f7a-4f2e-41d5-9607-8a1eafb01754",
   "metadata": {},
   "outputs": [
    {
     "data": {
      "text/plain": [
       "2500"
      ]
     },
     "execution_count": 48,
     "metadata": {},
     "output_type": "execute_result"
    }
   ],
   "source": [
    "len(list(INPUTS_FOLDER.glob(\"*.json\")))"
   ]
  },
  {
   "cell_type": "code",
   "execution_count": 55,
   "id": "30ee1a29-fc64-49fc-bfaf-47fe62d4ef43",
   "metadata": {},
   "outputs": [],
   "source": [
    "train_prots = np.unique(np.array([filename.name.split(\"_\")[1:3] for filename in INPUTS_FOLDER.glob(\"P0*\")]).flatten())\n",
    "val_prots = np.unique(np.array([filename.name.split(\"_\")[1:3] for filename in INPUTS_FOLDER.glob(\"P1*\")]).flatten())\n",
    "test_prots = np.unique(np.array([filename.name.split(\"_\")[1:3] for filename in INPUTS_FOLDER.glob(\"P2*\")]).flatten())\n"
   ]
  },
  {
   "cell_type": "code",
   "execution_count": 56,
   "id": "d40a589a-bd15-4021-a623-f264765cd18e",
   "metadata": {},
   "outputs": [
    {
     "data": {
      "text/plain": [
       "array([], dtype='<U10')"
      ]
     },
     "execution_count": 56,
     "metadata": {},
     "output_type": "execute_result"
    }
   ],
   "source": [
    "np.intersect1d(train_prots, val_prots)"
   ]
  },
  {
   "cell_type": "code",
   "execution_count": 57,
   "id": "86f46e60-62a8-4364-87a2-1f9b90236a44",
   "metadata": {},
   "outputs": [
    {
     "data": {
      "text/plain": [
       "array([], dtype='<U10')"
      ]
     },
     "execution_count": 57,
     "metadata": {},
     "output_type": "execute_result"
    }
   ],
   "source": [
    "np.intersect1d(train_prots, test_prots)"
   ]
  },
  {
   "cell_type": "code",
   "execution_count": 58,
   "id": "fd3fc180-8037-4dd0-beaa-aeabd437f681",
   "metadata": {},
   "outputs": [
    {
     "data": {
      "text/plain": [
       "array([], dtype='<U6')"
      ]
     },
     "execution_count": 58,
     "metadata": {},
     "output_type": "execute_result"
    }
   ],
   "source": [
    "np.intersect1d(val_prots, test_prots)"
   ]
  },
  {
   "cell_type": "code",
   "execution_count": 59,
   "id": "7930f470-b0d0-448c-9092-a16fc22bb661",
   "metadata": {},
   "outputs": [
    {
     "data": {
      "text/plain": [
       "array([], dtype='<U10')"
      ]
     },
     "execution_count": 59,
     "metadata": {},
     "output_type": "execute_result"
    }
   ],
   "source": [
    "np.intersect1d(train_prots, val_prots)"
   ]
  }
 ],
 "metadata": {
  "kernelspec": {
   "display_name": "Python 3 (ipykernel)",
   "language": "python",
   "name": "python3"
  },
  "language_info": {
   "codemirror_mode": {
    "name": "ipython",
    "version": 3
   },
   "file_extension": ".py",
   "mimetype": "text/x-python",
   "name": "python",
   "nbconvert_exporter": "python",
   "pygments_lexer": "ipython3",
   "version": "3.11.4"
  }
 },
 "nbformat": 4,
 "nbformat_minor": 5
}

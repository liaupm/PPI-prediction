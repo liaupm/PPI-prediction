{
 "cells": [
  {
   "cell_type": "code",
   "execution_count": 1,
   "id": "929c9874-7033-45d2-a6f7-c831fe1bc560",
   "metadata": {},
   "outputs": [],
   "source": [
    "# Remove already processed inputs\n",
    "import os\n",
    "import shutil\n",
    "\n",
    "output_dirs = [dir for dir in os.listdir(\"outputs\") if os.path.isdir(f\"outputs/{dir}\")]\n",
    "for dir in output_dirs:\n",
    "    # Move the input file to a done folder\n",
    "    filename = f\"{dir.upper()}_mmseqs.json\"\n",
    "    try:\n",
    "        shutil.move(f\"inputs_mmseqs/{filename}\", f\"inputs_mmseqs/done/{filename}\")\n",
    "    except:\n",
    "        continue"
   ]
  },
  {
   "cell_type": "code",
   "execution_count": null,
   "id": "33f9ab59-f912-4481-8e95-0a283db0c243",
   "metadata": {},
   "outputs": [],
   "source": []
  }
 ],
 "metadata": {
  "kernelspec": {
   "display_name": "Python 3 (ipykernel)",
   "language": "python",
   "name": "python3"
  },
  "language_info": {
   "codemirror_mode": {
    "name": "ipython",
    "version": 3
   },
   "file_extension": ".py",
   "mimetype": "text/x-python",
   "name": "python",
   "nbconvert_exporter": "python",
   "pygments_lexer": "ipython3",
   "version": "3.11.4"
  }
 },
 "nbformat": 4,
 "nbformat_minor": 5
}

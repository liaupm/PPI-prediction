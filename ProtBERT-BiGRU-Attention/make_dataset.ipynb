{
 "cells": [
  {
   "cell_type": "code",
   "execution_count": 9,
   "id": "10ca0bef-65b8-4d70-a2a0-fd198c1cfa79",
   "metadata": {},
   "outputs": [],
   "source": [
    "import pandas as pd\n",
    "import numpy as np\n",
    "from pathlib import Path"
   ]
  },
  {
   "cell_type": "code",
   "execution_count": 3,
   "id": "6d972673-cd86-4c94-9895-ff0fc016a0f9",
   "metadata": {},
   "outputs": [],
   "source": [
    "!mkdir -p bernett/FT bernett/TrainPPI"
   ]
  },
  {
   "cell_type": "code",
   "execution_count": null,
   "id": "14f44b52",
   "metadata": {},
   "outputs": [],
   "source": [
    "DATASET_LOCATION = Path(\"../datasets/bernett_v4/\")"
   ]
  },
  {
   "cell_type": "code",
   "execution_count": null,
   "id": "60a8bf40-941e-4e64-914e-0558fb36c031",
   "metadata": {},
   "outputs": [
    {
     "name": "stdout",
     "output_type": "stream",
     "text": [
      "Train size: 81596 positives, 81596 negatives, 163192 total.\n",
      "Validation size: 29630 positives, 29630 negatives, 59260 total.\n",
      "Test size: 26024 positives, 26024 negatives, 52048 total.\n"
     ]
    }
   ],
   "source": [
    "train_pos = pd.read_csv(DATASET_LOCATION / \"Intra1_pos_rr.txt\", sep=\" \", header=None)\n",
    "train_neg = pd.read_csv(DATASET_LOCATION / \"Intra1_neg_rr.txt\", sep=\" \", header=None)\n",
    "val_pos = pd.read_csv(DATASET_LOCATION / \"Intra0_pos_rr.txt\", sep=\" \", header=None)\n",
    "val_neg = pd.read_csv(DATASET_LOCATION / \"Intra0_neg_rr.txt\", sep=\" \", header=None)\n",
    "test_pos = pd.read_csv(DATASET_LOCATION / \"Intra2_pos_rr.txt\", sep=\" \", header=None)\n",
    "test_neg = pd.read_csv(DATASET_LOCATION / \"Intra2_neg_rr.txt\", sep=\" \", header=None)\n",
    "\n",
    "print(f\"Train size: {train_pos.shape[0]} positives, {train_neg.shape[0]} negatives, {train_pos.shape[0] + train_neg.shape[0]} total.\")\n",
    "print(f\"Validation size: {val_pos.shape[0]} positives, {val_neg.shape[0]} negatives, {val_pos.shape[0] + val_neg.shape[0]} total.\")\n",
    "print(f\"Test size: {test_pos.shape[0]} positives, {test_neg.shape[0]} negatives, {test_pos.shape[0] + test_neg.shape[0]} total.\")"
   ]
  },
  {
   "cell_type": "code",
   "execution_count": 8,
   "id": "c6d98876-267e-4215-896c-71f89434ad82",
   "metadata": {},
   "outputs": [
    {
     "data": {
      "text/html": [
       "<div>\n",
       "<style scoped>\n",
       "    .dataframe tbody tr th:only-of-type {\n",
       "        vertical-align: middle;\n",
       "    }\n",
       "\n",
       "    .dataframe tbody tr th {\n",
       "        vertical-align: top;\n",
       "    }\n",
       "\n",
       "    .dataframe thead th {\n",
       "        text-align: right;\n",
       "    }\n",
       "</style>\n",
       "<table border=\"1\" class=\"dataframe\">\n",
       "  <thead>\n",
       "    <tr style=\"text-align: right;\">\n",
       "      <th></th>\n",
       "      <th>shape_check</th>\n",
       "      <th>nan_check</th>\n",
       "    </tr>\n",
       "  </thead>\n",
       "  <tbody>\n",
       "    <tr>\n",
       "      <th>train_pos</th>\n",
       "      <td>True</td>\n",
       "      <td>True</td>\n",
       "    </tr>\n",
       "    <tr>\n",
       "      <th>train_neg</th>\n",
       "      <td>True</td>\n",
       "      <td>True</td>\n",
       "    </tr>\n",
       "    <tr>\n",
       "      <th>val_pos</th>\n",
       "      <td>True</td>\n",
       "      <td>True</td>\n",
       "    </tr>\n",
       "    <tr>\n",
       "      <th>val_neg</th>\n",
       "      <td>True</td>\n",
       "      <td>True</td>\n",
       "    </tr>\n",
       "    <tr>\n",
       "      <th>test_pos</th>\n",
       "      <td>True</td>\n",
       "      <td>True</td>\n",
       "    </tr>\n",
       "    <tr>\n",
       "      <th>test_neg</th>\n",
       "      <td>True</td>\n",
       "      <td>True</td>\n",
       "    </tr>\n",
       "  </tbody>\n",
       "</table>\n",
       "</div>"
      ],
      "text/plain": [
       "           shape_check  nan_check\n",
       "train_pos         True       True\n",
       "train_neg         True       True\n",
       "val_pos           True       True\n",
       "val_neg           True       True\n",
       "test_pos          True       True\n",
       "test_neg          True       True"
      ]
     },
     "execution_count": 8,
     "metadata": {},
     "output_type": "execute_result"
    }
   ],
   "source": [
    "# Check shape and NaN values\n",
    "dfs = [train_pos, train_neg, val_pos, val_neg, test_pos, test_neg]\n",
    "results = {\n",
    "    \"shape_check\": [df.shape[1] == 2 for df in dfs],\n",
    "    \"nan_check\": [df.isna().sum().sum() == 0 for df in dfs]\n",
    "}\n",
    "results = pd.DataFrame(results, index=[\"train_pos\", \"train_neg\", \"val_pos\", \"val_neg\", \"test_pos\", \"test_neg\"])\n",
    "results"
   ]
  },
  {
   "cell_type": "markdown",
   "id": "32c08663-b447-47f4-be46-72010522bb02",
   "metadata": {},
   "source": [
    "# Split dataset\n",
    "\n",
    "90% for fine-tuning ProtBERT, and 10% for training."
   ]
  },
  {
   "cell_type": "code",
   "execution_count": null,
   "id": "f871b4ae-3042-4cf1-bb02-188cbb46a1bb",
   "metadata": {},
   "outputs": [],
   "source": [
    "for filename in (\"Intra1_pos_rr.txt\", \"Intra1_neg_rr.txt\", \"Intra0_pos_rr.txt\", \"Intra0_neg_rr.txt\", \"Intra2_pos_rr.txt\", \"Intra2_neg_rr.txt\"):\n",
    "    df = pd.read_csv(DATASET_LOCATION / filename, sep=\" \", header=None)\n",
    "\n",
    "    ft_df = df.sample(frac=0.9, random_state=42)\n",
    "    train_df = df.drop(ft_df.index)\n",
    "\n",
    "    ft_df.to_csv(Path(\"bernett/FT\") / filename, sep=\" \", header=None, index=False)\n",
    "    train_df.to_csv(Path(\"bernett/TrainPPI\") / filename, sep=\" \", header=None, index=False)"
   ]
  },
  {
   "cell_type": "markdown",
   "id": "89cd79d0-4c05-478f-8c74-88948adcb95b",
   "metadata": {},
   "source": [
    "# Quick check that there is no data leakage"
   ]
  },
  {
   "cell_type": "code",
   "execution_count": 12,
   "id": "2a54321e-018d-4489-a55f-9cf0043be2da",
   "metadata": {},
   "outputs": [
    {
     "name": "stdout",
     "output_type": "stream",
     "text": [
      "No duplicated rows in Intra1_pos_rr.txt Ratio 0.900\n",
      "No duplicated rows in Intra1_neg_rr.txt Ratio 0.900\n",
      "No duplicated rows in Intra0_pos_rr.txt Ratio 0.900\n",
      "No duplicated rows in Intra0_neg_rr.txt Ratio 0.900\n",
      "No duplicated rows in Intra2_pos_rr.txt Ratio 0.900\n",
      "No duplicated rows in Intra2_neg_rr.txt Ratio 0.900\n"
     ]
    }
   ],
   "source": [
    "for filename in (\"Intra1_pos_rr.txt\", \"Intra1_neg_rr.txt\", \"Intra0_pos_rr.txt\", \"Intra0_neg_rr.txt\", \"Intra2_pos_rr.txt\", \"Intra2_neg_rr.txt\"):\n",
    "    ft_df = pd.read_csv(Path(\"bernett/FT\") / filename, sep=\" \", header=None)\n",
    "    train_df = pd.read_csv(Path(\"bernett/TrainPPI\") / filename, sep=\" \", header=None)\n",
    "\n",
    "    ratio = ft_df.shape[0] / (ft_df.shape[0] + train_df.shape[0])\n",
    "    duplicates = pd.merge(ft_df, train_df, how=\"inner\")\n",
    "\n",
    "    if not duplicates.empty:\n",
    "        print(\"There are duplicated rows in\", filename)\n",
    "        print(duplicates)\n",
    "    else:\n",
    "        print(\"No duplicated rows in\", filename, f\"Ratio {ratio:.3f}\")\n",
    "    "
   ]
  }
 ],
 "metadata": {
  "kernelspec": {
   "display_name": "Python 3 (ipykernel)",
   "language": "python",
   "name": "python3"
  },
  "language_info": {
   "codemirror_mode": {
    "name": "ipython",
    "version": 3
   },
   "file_extension": ".py",
   "mimetype": "text/x-python",
   "name": "python",
   "nbconvert_exporter": "python",
   "pygments_lexer": "ipython3",
   "version": "3.11.4"
  }
 },
 "nbformat": 4,
 "nbformat_minor": 5
}
